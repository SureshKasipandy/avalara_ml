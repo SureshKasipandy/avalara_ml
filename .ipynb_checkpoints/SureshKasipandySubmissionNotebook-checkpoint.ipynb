{
 "cells": [
  {
   "cell_type": "markdown",
   "metadata": {},
   "source": [
    "# AVALARA CODING ASSIGNMENT - SENIOR ML ENGINEER\n",
    "\n",
    "## Problem Statement\n",
    "\n",
    "Avalara is a tax technology company that helps businesses manage complicated tax\n",
    "compliance obligations imposed by their state, local, and other tax authorities throughout the\n",
    "world. Each year, we process billions of indirect tax transactions for more than 25,000\n",
    "customers.\n",
    "\n",
    "Figuring out the exact tax for what they sell is a big hurdle for many businesses. To accurately\n",
    "calculate the sales tax for a product, businesses have to classify the product, which is where\n",
    "product classification comes in.\n",
    "\n",
    "One of the first steps in classification is to determine whether the transaction was for a product /\n",
    "service before classifying it into further granular categories. Your challenge is to build a top level\n",
    "\n",
    "binary classifier to determine whether the given listing falls under the service(S) or product/non-\n",
    "service(R) category.\n",
    "\n",
    "## Data Description (both train and test)\n",
    "\n",
    "Training data contains ~1.2 million records and has the following fields: 1. title 2. description -\n",
    "Additional high level description of the item (Important : This may or may not always be\n",
    "available in the test set) 3. category - The class to which the item belongs. Values can be either\n",
    "S or R. The problem requires you to use title, description and predict the output category.\n",
    "Datasets are present under the ml-assignment folder here: ml-assignment\n",
    "(https://drive.google.com/drive/folders/12FSbAwNDZY695QHs4mIVGiP92tz-533B) where\n",
    "training.csv is the training dataset and test1.csv is the test dataset.\n",
    "\n",
    "## Evaluation Criteria\n",
    "\n",
    "1. You should submit a file “submissions.tsv” that contains an additional column with the\n",
    "predictions from your model.\n",
    "2. The submission should also contain a Jupyter Notebook or Python/Scala/Julia Script\n",
    "with the model(s) actually built. It should contain in detail the following\n",
    "o All the Exploratory data analysis done on the dataset.\n",
    "o Preprocessing logic and rationale for them if any.\n",
    "o Model Training code.\n",
    "o Model Prediction code.\n",
    "o A Readme that can help us replicate the submission score.\n",
    "o Plot confusion matrix\n",
    "o Write up about the decisions you made with regards to model, features etc"
   ]
  },
  {
   "cell_type": "markdown",
   "metadata": {},
   "source": [
    "## Solution\n",
    "\n",
    "### Importing necessary packages\n"
   ]
  },
  {
   "cell_type": "code",
   "execution_count": 1,
   "metadata": {},
   "outputs": [
    {
     "name": "stderr",
     "output_type": "stream",
     "text": [
      "[nltk_data] Downloading package wordnet to\n",
      "[nltk_data]     C:\\Users\\jks_1\\AppData\\Roaming\\nltk_data...\n",
      "[nltk_data]   Package wordnet is already up-to-date!\n",
      "[nltk_data] Downloading package stopwords to\n",
      "[nltk_data]     C:\\Users\\jks_1\\AppData\\Roaming\\nltk_data...\n",
      "[nltk_data]   Package stopwords is already up-to-date!\n"
     ]
    }
   ],
   "source": [
    "import pandas as pd\n",
    "import numpy as np\n",
    "import nltk\n",
    "nltk.download('wordnet')\n",
    "nltk.download('stopwords')\n",
    "from nltk.stem import WordNetLemmatizer\n",
    "from nltk.corpus import stopwords\n",
    "\n",
    "from sklearn import feature_selection\n",
    "from sklearn.feature_extraction.text import CountVectorizer\n",
    "from sklearn import manifold\n",
    "from sklearn import metrics\n",
    "from sklearn.model_selection import cross_val_score\n",
    "from sklearn.ensemble import RandomForestClassifier\n",
    "from sklearn.linear_model import LogisticRegression\n",
    "from sklearn.svm import LinearSVC\n",
    "from sklearn.naive_bayes import MultinomialNB\n",
    "from sklearn.metrics import precision_recall_curve, roc_curve, confusion_matrix, classification_report\n",
    "from sklearn.pipeline import Pipeline\n",
    "\n",
    "from mlxtend.plotting import plot_confusion_matrix\n",
    "\n",
    "import tensorflow as tf\n",
    "from tensorflow import keras\n",
    "\n",
    "from keras.preprocessing.text import Tokenizer\n",
    "from keras.preprocessing.sequence import pad_sequences\n",
    "from keras.models import Model\n",
    "from keras.layers import Input\n",
    "from keras.layers import Dense\n",
    "from keras.layers import Flatten\n",
    "from keras.layers import Dropout\n",
    "from keras.layers import Embedding\n",
    "from keras.layers.convolutional import Conv1D\n",
    "from keras.layers.convolutional import MaxPooling1D\n",
    "from keras.layers.merge import concatenate\n",
    "from keras.callbacks import EarlyStopping\n",
    "from keras.callbacks import ModelCheckpoint\n",
    "from keras import regularizers\n",
    "from keras.utils.vis_utils import plot_model\n",
    "from tensorflow.random import set_seed\n",
    "\n",
    "import matplotlib.pyplot as plt\n",
    "import seaborn as sns\n",
    "\n",
    "\n",
    "%matplotlib inline"
   ]
  },
  {
   "cell_type": "markdown",
   "metadata": {},
   "source": [
    "### Data Load, Preprocessing and EDA"
   ]
  },
  {
   "cell_type": "code",
   "execution_count": 2,
   "metadata": {},
   "outputs": [],
   "source": [
    "training_data = pd.read_csv('./data/training.tsv', sep='\\t')\n",
    "\n"
   ]
  },
  {
   "cell_type": "code",
   "execution_count": 3,
   "metadata": {},
   "outputs": [
    {
     "data": {
      "text/html": [
       "<div>\n",
       "<style scoped>\n",
       "    .dataframe tbody tr th:only-of-type {\n",
       "        vertical-align: middle;\n",
       "    }\n",
       "\n",
       "    .dataframe tbody tr th {\n",
       "        vertical-align: top;\n",
       "    }\n",
       "\n",
       "    .dataframe thead th {\n",
       "        text-align: right;\n",
       "    }\n",
       "</style>\n",
       "<table border=\"1\" class=\"dataframe\">\n",
       "  <thead>\n",
       "    <tr style=\"text-align: right;\">\n",
       "      <th></th>\n",
       "      <th>title</th>\n",
       "      <th>description</th>\n",
       "      <th>category</th>\n",
       "    </tr>\n",
       "  </thead>\n",
       "  <tbody>\n",
       "    <tr>\n",
       "      <td>0</td>\n",
       "      <td>Myo-Aid</td>\n",
       "      <td>Human Nutritional Supplements/Vitamin Supplements</td>\n",
       "      <td>R</td>\n",
       "    </tr>\n",
       "    <tr>\n",
       "      <td>1</td>\n",
       "      <td>ASM Community Advertising</td>\n",
       "      <td>Online adverstisemtn on one of ASM electronic ...</td>\n",
       "      <td>S</td>\n",
       "    </tr>\n",
       "    <tr>\n",
       "      <td>2</td>\n",
       "      <td>Application Services</td>\n",
       "      <td>Application Services include access to, and us...</td>\n",
       "      <td>S</td>\n",
       "    </tr>\n",
       "    <tr>\n",
       "      <td>3</td>\n",
       "      <td>Carpet Repairs</td>\n",
       "      <td>NaN</td>\n",
       "      <td>S</td>\n",
       "    </tr>\n",
       "    <tr>\n",
       "      <td>4</td>\n",
       "      <td>Bio-Sponge®</td>\n",
       "      <td>Human Nutritional Supplements/Vitamin Supplements</td>\n",
       "      <td>R</td>\n",
       "    </tr>\n",
       "  </tbody>\n",
       "</table>\n",
       "</div>"
      ],
      "text/plain": [
       "                       title  \\\n",
       "0                    Myo-Aid   \n",
       "1  ASM Community Advertising   \n",
       "2       Application Services   \n",
       "3             Carpet Repairs   \n",
       "4                Bio-Sponge®   \n",
       "\n",
       "                                         description category  \n",
       "0  Human Nutritional Supplements/Vitamin Supplements        R  \n",
       "1  Online adverstisemtn on one of ASM electronic ...        S  \n",
       "2  Application Services include access to, and us...        S  \n",
       "3                                                NaN        S  \n",
       "4  Human Nutritional Supplements/Vitamin Supplements        R  "
      ]
     },
     "execution_count": 3,
     "metadata": {},
     "output_type": "execute_result"
    }
   ],
   "source": [
    "testing_data = pd.read_csv('./data/test1.csv', sep='\\t')\n",
    "\n",
    "testing_data.head()"
   ]
  },
  {
   "cell_type": "markdown",
   "metadata": {},
   "source": [
    "#### THE DATASET\n",
    "\n",
    "The dataset is comprised of three columns\n",
    "\n",
    "1. `title` - Text - Predictor\n",
    "Title of the item/offering.\n",
    "\n",
    "2. `description` - Text - Predictor\n",
    "Description of the item/offering.\n",
    "\n",
    "3. `category` - Character - Label\n",
    "Labeling denoting the item type- service(S) or product/non-service(R)."
   ]
  },
  {
   "cell_type": "code",
   "execution_count": 4,
   "metadata": {},
   "outputs": [
    {
     "name": "stdout",
     "output_type": "stream",
     "text": [
      "<class 'pandas.core.frame.DataFrame'>\n",
      "RangeIndex: 1200000 entries, 0 to 1199999\n",
      "Data columns (total 3 columns):\n",
      "title          1199998 non-null object\n",
      "description    1200000 non-null object\n",
      "category       1200000 non-null object\n",
      "dtypes: object(3)\n",
      "memory usage: 27.5+ MB\n"
     ]
    }
   ],
   "source": [
    "training_data.info()"
   ]
  },
  {
   "cell_type": "markdown",
   "metadata": {},
   "source": [
    "#### NULLS\n",
    "\n",
    "`title` has 2 null values, but the other fields are fine. However, as per the problem statement `description` can be missing in the test set."
   ]
  },
  {
   "cell_type": "code",
   "execution_count": 5,
   "metadata": {},
   "outputs": [
    {
     "data": {
      "text/plain": [
       "<matplotlib.axes._subplots.AxesSubplot at 0x294841b7788>"
      ]
     },
     "execution_count": 5,
     "metadata": {},
     "output_type": "execute_result"
    },
    {
     "data": {
      "image/png": "[encoded data removed]",
      "text/plain": [
       "<Figure size 432x288 with 1 Axes>"
      ]
     },
     "metadata": {
      "needs_background": "light"
     },
     "output_type": "display_data"
    }
   ],
   "source": [
    "training_data.category.hist()"
   ]
  },
  {
   "cell_type": "markdown",
   "metadata": {},
   "source": [
    "#### LABEL DISTRIBUTION\n",
    "\n",
    "We can see that the label field is binary and that its values are distributed fairly evenly. Owing to this and with the large number of training samples we have we can avoid stratified sampling."
   ]
  },
  {
   "cell_type": "code",
   "execution_count": 6,
   "metadata": {},
   "outputs": [
    {
     "data": {
      "text/plain": [
       "title          1195435\n",
       "description       1295\n",
       "category             2\n",
       "Name: unique, dtype: object"
      ]
     },
     "execution_count": 6,
     "metadata": {},
     "output_type": "execute_result"
    }
   ],
   "source": [
    "training_data.describe().loc['unique']"
   ]
  },
  {
   "cell_type": "markdown",
   "metadata": {},
   "source": [
    "#### TEXT PREPROCESSING\n",
    "\n",
    "Looking at the unique values for `title` and `description`, we can safely make the assumption that the values for `description` are standardized and likely selected from a dropdown or something similar while `title` values were likely manually entered.\n",
    "\n",
    "One might think that this indicates less predictive power from `title` compared to `description`. However, since we leverage feature selection techniques including a chi-squared test, word embeddings and other techniques like convolution it is important we use `title` in conjunction with `description`. The aforementioned techniques ensure that only statistically significant tokens and n-grams are selected/learned from when training the model.\n",
    "\n",
    "We preprocess the text by removing punctuation, lowercasing, lemmatizing and removing digits (making an exception for 'B2C')."
   ]
  },
  {
   "cell_type": "code",
   "execution_count": 7,
   "metadata": {},
   "outputs": [
    {
     "data": {
      "text/html": [
       "<div>\n",
       "<style scoped>\n",
       "    .dataframe tbody tr th:only-of-type {\n",
       "        vertical-align: middle;\n",
       "    }\n",
       "\n",
       "    .dataframe tbody tr th {\n",
       "        vertical-align: top;\n",
       "    }\n",
       "\n",
       "    .dataframe thead th {\n",
       "        text-align: right;\n",
       "    }\n",
       "</style>\n",
       "<table border=\"1\" class=\"dataframe\">\n",
       "  <thead>\n",
       "    <tr style=\"text-align: right;\">\n",
       "      <th></th>\n",
       "      <th>title</th>\n",
       "      <th>description</th>\n",
       "      <th>category</th>\n",
       "      <th>combined</th>\n",
       "    </tr>\n",
       "  </thead>\n",
       "  <tbody>\n",
       "    <tr>\n",
       "      <td>0</td>\n",
       "      <td>ZicZac // Black + Red (Euro: 44)</td>\n",
       "      <td>Clothing &amp; related products (B2C) - Shoes and ...</td>\n",
       "      <td>R</td>\n",
       "      <td>ziczac black red euro clothing related product...</td>\n",
       "    </tr>\n",
       "    <tr>\n",
       "      <td>1</td>\n",
       "      <td>9X9 RESISTA/484938</td>\n",
       "      <td>Publishing/Printing - Printing Services</td>\n",
       "      <td>S</td>\n",
       "      <td>x resista publishing printing printing service</td>\n",
       "    </tr>\n",
       "    <tr>\n",
       "      <td>2</td>\n",
       "      <td>Halle Pant - Short Inseam 013049561D0010001_ 02</td>\n",
       "      <td>Clothing &amp; related products (B2C) - General</td>\n",
       "      <td>R</td>\n",
       "      <td>halle pant short inseam d clothing related pro...</td>\n",
       "    </tr>\n",
       "    <tr>\n",
       "      <td>3</td>\n",
       "      <td>Harry Houser Travel Expenses - Meals</td>\n",
       "      <td>Security - personnel</td>\n",
       "      <td>S</td>\n",
       "      <td>harry houser travel expense meal security pers...</td>\n",
       "    </tr>\n",
       "    <tr>\n",
       "      <td>4</td>\n",
       "      <td>Tee Time: 740078609 : Greens Fee - Composite</td>\n",
       "      <td>Admissions - Green Fees for Privately Owned Go...</td>\n",
       "      <td>R</td>\n",
       "      <td>tee time green fee composite admission green f...</td>\n",
       "    </tr>\n",
       "  </tbody>\n",
       "</table>\n",
       "</div>"
      ],
      "text/plain": [
       "                                             title  \\\n",
       "0                 ZicZac // Black + Red (Euro: 44)   \n",
       "1                               9X9 RESISTA/484938   \n",
       "2  Halle Pant - Short Inseam 013049561D0010001_ 02   \n",
       "3             Harry Houser Travel Expenses - Meals   \n",
       "4     Tee Time: 740078609 : Greens Fee - Composite   \n",
       "\n",
       "                                         description category  \\\n",
       "0  Clothing & related products (B2C) - Shoes and ...        R   \n",
       "1            Publishing/Printing - Printing Services        S   \n",
       "2        Clothing & related products (B2C) - General        R   \n",
       "3                               Security - personnel        S   \n",
       "4  Admissions - Green Fees for Privately Owned Go...        R   \n",
       "\n",
       "                                            combined  \n",
       "0  ziczac black red euro clothing related product...  \n",
       "1     x resista publishing printing printing service  \n",
       "2  halle pant short inseam d clothing related pro...  \n",
       "3  harry houser travel expense meal security pers...  \n",
       "4  tee time green fee composite admission green f...  "
      ]
     },
     "execution_count": 7,
     "metadata": {},
     "output_type": "execute_result"
    }
   ],
   "source": [
    "lemmatizer = WordNetLemmatizer()\n",
    "\n",
    "def preproc(df):\n",
    "    df['combined'] = df['title'].fillna('') + df['description'].fillna('').apply(lambda x: ' '+x)\n",
    "    df['combined'] = df['combined'].str.replace('[^\\w\\s]',' ').apply(lambda x: x.replace('_', ' ').split()).apply(lambda x: [lemmatizer.lemmatize(y.lower()) for y in x]).apply(lambda x: \" \".join([''.join((x for x in s if (s!='B2C' and not x.isdigit()))) for s in x if not s.isnumeric()]))\n",
    "    return df\n",
    "    \n",
    "training_data = preproc(training_data)\n",
    "\n",
    "training_data.head()"
   ]
  },
  {
   "cell_type": "code",
   "execution_count": 8,
   "metadata": {},
   "outputs": [
    {
     "data": {
      "text/html": [
       "<div>\n",
       "<style scoped>\n",
       "    .dataframe tbody tr th:only-of-type {\n",
       "        vertical-align: middle;\n",
       "    }\n",
       "\n",
       "    .dataframe tbody tr th {\n",
       "        vertical-align: top;\n",
       "    }\n",
       "\n",
       "    .dataframe thead th {\n",
       "        text-align: right;\n",
       "    }\n",
       "</style>\n",
       "<table border=\"1\" class=\"dataframe\">\n",
       "  <thead>\n",
       "    <tr style=\"text-align: right;\">\n",
       "      <th></th>\n",
       "      <th>title</th>\n",
       "      <th>description</th>\n",
       "      <th>category</th>\n",
       "      <th>combined</th>\n",
       "    </tr>\n",
       "  </thead>\n",
       "  <tbody>\n",
       "    <tr>\n",
       "      <td>0</td>\n",
       "      <td>Myo-Aid</td>\n",
       "      <td>Human Nutritional Supplements/Vitamin Supplements</td>\n",
       "      <td>R</td>\n",
       "      <td>myo aid human nutritional supplement vitamin s...</td>\n",
       "    </tr>\n",
       "    <tr>\n",
       "      <td>1</td>\n",
       "      <td>ASM Community Advertising</td>\n",
       "      <td>Online adverstisemtn on one of ASM electronic ...</td>\n",
       "      <td>S</td>\n",
       "      <td>asm community advertising online adverstisemtn...</td>\n",
       "    </tr>\n",
       "    <tr>\n",
       "      <td>2</td>\n",
       "      <td>Application Services</td>\n",
       "      <td>Application Services include access to, and us...</td>\n",
       "      <td>S</td>\n",
       "      <td>application service application service includ...</td>\n",
       "    </tr>\n",
       "    <tr>\n",
       "      <td>3</td>\n",
       "      <td>Carpet Repairs</td>\n",
       "      <td>NaN</td>\n",
       "      <td>S</td>\n",
       "      <td>carpet repair</td>\n",
       "    </tr>\n",
       "    <tr>\n",
       "      <td>4</td>\n",
       "      <td>Bio-Sponge®</td>\n",
       "      <td>Human Nutritional Supplements/Vitamin Supplements</td>\n",
       "      <td>R</td>\n",
       "      <td>bio sponge human nutritional supplement vitami...</td>\n",
       "    </tr>\n",
       "  </tbody>\n",
       "</table>\n",
       "</div>"
      ],
      "text/plain": [
       "                       title  \\\n",
       "0                    Myo-Aid   \n",
       "1  ASM Community Advertising   \n",
       "2       Application Services   \n",
       "3             Carpet Repairs   \n",
       "4                Bio-Sponge®   \n",
       "\n",
       "                                         description category  \\\n",
       "0  Human Nutritional Supplements/Vitamin Supplements        R   \n",
       "1  Online adverstisemtn on one of ASM electronic ...        S   \n",
       "2  Application Services include access to, and us...        S   \n",
       "3                                                NaN        S   \n",
       "4  Human Nutritional Supplements/Vitamin Supplements        R   \n",
       "\n",
       "                                            combined  \n",
       "0  myo aid human nutritional supplement vitamin s...  \n",
       "1  asm community advertising online adverstisemtn...  \n",
       "2  application service application service includ...  \n",
       "3                                      carpet repair  \n",
       "4  bio sponge human nutritional supplement vitami...  "
      ]
     },
     "execution_count": 8,
     "metadata": {},
     "output_type": "execute_result"
    }
   ],
   "source": [
    "testing_data = preproc(testing_data)\n",
    "\n",
    "testing_data.head()"
   ]
  },
  {
   "cell_type": "markdown",
   "metadata": {},
   "source": [
    "### What's next?\n",
    "\n",
    "Our dataset is cleaned and ready. We are going to leverage a variety of machine learning and deep learning algorithms to build models capable of accurately predicting the item category. For each of these approaches we use slightly different data preparation techniques.\n",
    "\n",
    "\n",
    "\n"
   ]
  },
  {
   "cell_type": "markdown",
   "metadata": {},
   "source": [
    "### 1. Traditional Machine Learning Models\n",
    "\n",
    "We're going to prep our dataset using the Bag-of-words model where the combined text of the title and description is converted to a vector of 0s and 1s that denote the presence and absence of words from the total observed vocabulary. In the first iteration we are going to try out a variety of baseline models on a random sample of the training data and evaluate performance on the test set. We will then select the best performing model, train it on the full training set and tune some hyperparameters to improve performance."
   ]
  },
  {
   "cell_type": "code",
   "execution_count": 9,
   "metadata": {},
   "outputs": [],
   "source": [
    "MAX_FEATURES = 2000\n",
    "#Number of max features for count vectorizer\n",
    "\n",
    "def get_cvec(): \n",
    "    return CountVectorizer(ngram_range = (1, 3), \n",
    "                       max_features=MAX_FEATURES, \n",
    "                       stop_words = 'english', \n",
    "                       binary=True)\n",
    "\n",
    "def get_cross_val_score(clf, X, y):\n",
    "    cvec = get_cvec()\n",
    "    pipe = Pipeline([('vect', cvec), ('clf', clf)])\n",
    "    scores =  cross_val_score(pipe, X, y, cv=3, verbose=1, n_jobs=30)\n",
    "    return scores\n",
    "\n",
    "\n",
    "def plot_precision_recall_vs_threshold(precisions, recalls, thresholds):\n",
    "    sns.set(font_scale=1.2)\n",
    "    plt.plot(thresholds, precisions[:-1], \"b--\", label=\"Precision\")\n",
    "    plt.plot(thresholds, recalls[:-1], \"g-\", label=\"Recall\")\n",
    "    plt.title('precision vs recall')\n",
    "    \n",
    "    \n",
    "def plot_roc_curve(fpr, tpr):\n",
    "    sns.set(font_scale=1.2)\n",
    "    plt.plot(fpr, tpr, linewidth=2)\n",
    "    plt.plot([0, 1], [0, 1], 'k--')\n",
    "    plt.title('roc curve')\n",
    "\n",
    "def plot_conf_matrix(cmap, classes):\n",
    "    sns.set(font_scale=1.2)\n",
    "    plot_confusion_matrix(conf_mat = cmap,\n",
    "                                       class_names = classes,\n",
    "                                       show_absolute = True,\n",
    "                                       show_normed = False,\n",
    "                                       colorbar = True, \n",
    "                                       figsize=(8, 8))\n",
    "    plt.title('confusion matrix')\n",
    "    plt.ylim(-0.5, 1.5)\n",
    "    plt.show()\n",
    "\n",
    "def clf_performance(clf, clf_name, X, y, X_test, y_test):\n",
    "    classes = ['R', 'S']\n",
    "    print(\"EVALUATING PERFORMANCE FOR \"+clf_name)\n",
    "    \n",
    "\n",
    "    cvec = CountVectorizer(ngram_range = (1, 3), \n",
    "                       max_features=MAX_FEATURES, \n",
    "                       stop_words = 'english', \n",
    "                       binary=True)\n",
    "    pipe = Pipeline([('vect', cvec), ('clf', clf)])\n",
    "    \n",
    "    pipe.fit(X, y)\n",
    "    \n",
    "    y_pred = pipe.predict(X_test)\n",
    "    \n",
    "    print(classification_report(y_test, y_pred, target_names=classes))\n",
    "    \n",
    "    precisions, recalls, thresholds = precision_recall_curve(y_test, y_pred)\n",
    "    fig = plt.figure(figsize=(15, 5))\n",
    "    ax = fig.add_subplot(1, 2, 1)\n",
    "    plot_precision_recall_vs_threshold(precisions, recalls, thresholds)\n",
    "    ax = fig.add_subplot(1, 2, 2)\n",
    "    fpr, tpr, thresholds = roc_curve(y_test, y_pred)\n",
    "    \n",
    "    plot_roc_curve(fpr, tpr)\n",
    "    cmap = confusion_matrix(y_test, y_pred)\n",
    "    \n",
    "    plot_conf_matrix(cmap, classes)\n",
    "    "
   ]
  },
  {
   "cell_type": "code",
   "execution_count": 10,
   "metadata": {
    "scrolled": false
   },
   "outputs": [],
   "source": [
    "sample = training_data.sample(frac=0.5, random_state=42)\n",
    "#Sampling 50% of the training data\n",
    "\n",
    "X = sample['combined']\n",
    "y = sample['category'].apply(lambda x: 0 if x=='R' else 1)\n",
    "\n",
    "X_test = testing_data['combined']\n",
    "y_test = testing_data['category'].apply(lambda x: 0 if x=='R' else 1)\n"
   ]
  },
  {
   "cell_type": "code",
   "execution_count": 11,
   "metadata": {},
   "outputs": [
    {
     "name": "stdout",
     "output_type": "stream",
     "text": [
      "EVALUATING PERFORMANCE FOR Random Forest Classifier\n",
      "              precision    recall  f1-score   support\n",
      "\n",
      "           R       0.65      0.89      0.75        35\n",
      "           S       0.91      0.70      0.79        57\n",
      "\n",
      "    accuracy                           0.77        92\n",
      "   macro avg       0.78      0.79      0.77        92\n",
      "weighted avg       0.81      0.77      0.77        92\n",
      "\n"
     ]
    },
    {
     "data": {
      "image/png": "[encoded data removed]",
      "text/plain": [
       "<Figure size 1080x360 with 2 Axes>"
      ]
     },
     "metadata": {
      "needs_background": "light"
     },
     "output_type": "display_data"
    },
    {
     "data": {
      "image/png": "[encoded data removed]",
      "text/plain": [
       "<Figure size 576x576 with 2 Axes>"
      ]
     },
     "metadata": {},
     "output_type": "display_data"
    }
   ],
   "source": [
    "clf_performance(RandomForestClassifier(), 'Random Forest Classifier', X, y, X_test, y_test)"
   ]
  },
  {
   "cell_type": "code",
   "execution_count": 12,
   "metadata": {},
   "outputs": [
    {
     "name": "stdout",
     "output_type": "stream",
     "text": [
      "EVALUATING PERFORMANCE FOR Multinomial Naive Bayes\n",
      "              precision    recall  f1-score   support\n",
      "\n",
      "           R       0.86      0.91      0.89        35\n",
      "           S       0.95      0.91      0.93        57\n",
      "\n",
      "    accuracy                           0.91        92\n",
      "   macro avg       0.91      0.91      0.91        92\n",
      "weighted avg       0.91      0.91      0.91        92\n",
      "\n"
     ]
    },
    {
     "data": {
      "image/png": "[encoded data removed]",
      "text/plain": [
       "<Figure size 1080x360 with 2 Axes>"
      ]
     },
     "metadata": {},
     "output_type": "display_data"
    },
    {
     "data": {
      "image/png": "[encoded data removed]",
      "text/plain": [
       "<Figure size 576x576 with 2 Axes>"
      ]
     },
     "metadata": {},
     "output_type": "display_data"
    }
   ],
   "source": [
    "clf_performance(MultinomialNB(), 'Multinomial Naive Bayes', X, y, X_test, y_test)"
   ]
  },
  {
   "cell_type": "code",
   "execution_count": 13,
   "metadata": {},
   "outputs": [
    {
     "name": "stdout",
     "output_type": "stream",
     "text": [
      "EVALUATING PERFORMANCE FOR Linear SVC\n",
      "              precision    recall  f1-score   support\n",
      "\n",
      "           R       0.62      0.89      0.73        35\n",
      "           S       0.90      0.67      0.77        57\n",
      "\n",
      "    accuracy                           0.75        92\n",
      "   macro avg       0.76      0.78      0.75        92\n",
      "weighted avg       0.80      0.75      0.75        92\n",
      "\n"
     ]
    },
    {
     "data": {
      "image/png": "[encoded data removed]",
      "text/plain": [
       "<Figure size 1080x360 with 2 Axes>"
      ]
     },
     "metadata": {},
     "output_type": "display_data"
    },
    {
     "data": {
      "image/png": "[encoded data removed]",
      "text/plain": [
       "<Figure size 576x576 with 2 Axes>"
      ]
     },
     "metadata": {},
     "output_type": "display_data"
    }
   ],
   "source": [
    "clf_performance(LinearSVC(), 'Linear SVC', X, y, X_test, y_test)"
   ]
  },
  {
   "cell_type": "code",
   "execution_count": 14,
   "metadata": {},
   "outputs": [
    {
     "name": "stdout",
     "output_type": "stream",
     "text": [
      "EVALUATING PERFORMANCE FOR LogisticRegression\n",
      "              precision    recall  f1-score   support\n",
      "\n",
      "           R       0.62      0.89      0.73        35\n",
      "           S       0.90      0.67      0.77        57\n",
      "\n",
      "    accuracy                           0.75        92\n",
      "   macro avg       0.76      0.78      0.75        92\n",
      "weighted avg       0.80      0.75      0.75        92\n",
      "\n"
     ]
    },
    {
     "data": {
      "image/png": "[encoded data removed]",
      "text/plain": [
       "<Figure size 1080x360 with 2 Axes>"
      ]
     },
     "metadata": {},
     "output_type": "display_data"
    },
    {
     "data": {
      "image/png": "[encoded data removed]",
      "text/plain": [
       "<Figure size 576x576 with 2 Axes>"
      ]
     },
     "metadata": {},
     "output_type": "display_data"
    }
   ],
   "source": [
    "clf_performance(LinearSVC(), 'LogisticRegression', X, y, X_test, y_test)"
   ]
  },
  {
   "cell_type": "markdown",
   "metadata": {},
   "source": [
    "From the above seen metrics, we can see the MultinomialNB does relatively well in comparison to the others."
   ]
  },
  {
   "cell_type": "code",
   "execution_count": 17,
   "metadata": {},
   "outputs": [],
   "source": [
    "#Taking all available training data\n",
    "X = training_data['combined']\n",
    "y = training_data['category'].apply(lambda x: 0 if x=='R' else 1)\n"
   ]
  },
  {
   "cell_type": "markdown",
   "metadata": {},
   "source": [
    "We can use GridSearch to tune hyperparameter values to attain optimal performance using the code below.\n",
    "\n",
    "<code>from sklearn.model_selection import GridSearchCV\n",
    "\n",
    "#Vectorizing input text\n",
    "cvec = get_cvec()\n",
    "X_prep = cvec.fit_transform(X).toarray()\n",
    "X_test_prep = cvec.transform(X_test).toarray()\n",
    "\n",
    "grid_params = {\n",
    "  'alpha': np.linspace(0.5, 1.5, 8),\n",
    "  'fit_prior': [True, False],  \n",
    "}\n",
    "clf = GridSearchCV(MultinomialNB(), grid_params, n_jobs=3, cv=3)\n",
    "clf.fit(X_prep, y)\n",
    "\n",
    "print(\"Best Score: \", clf.best_score_)\n",
    "print(\"Best Params: \", clf.best_params_)\n",
    "</code>\n",
    "\n",
    "\n",
    "Note: As the final submission is made later using a different approach I have opted not to tune for hyper parameters in order to minimize training time for this exercise.\n"
   ]
  },
  {
   "cell_type": "markdown",
   "metadata": {},
   "source": [
    "### 2. Convolutional Neural Network\n",
    "\n",
    "Neural networks comprised of embedding layers and convolution layers have seen application and good performance in Text Classification problems. Yoon Kim disccusses in his paper Convolutional Neural Networks for Sentence Classification (https://arxiv.org/abs/1408.5882) how, at the time, CNNs improved on state-of-the-art performance on 4 of 7 tasks. The word embedding matrix for a sentence can resemble an image tensor thus owing to convolution layers being good an observing similar patterns in similar sentences. We see how a simple CNN with a single 1-D convolution layer performs."
   ]
  },
  {
   "cell_type": "code",
   "execution_count": 18,
   "metadata": {},
   "outputs": [
    {
     "name": "stdout",
     "output_type": "stream",
     "text": [
      "Max token set length: 430\n",
      "Vocabulary size: 263210\n"
     ]
    }
   ],
   "source": [
    "#Using keras preprocessing to preprocess input as padded vectors, \n",
    "#padded to the highest word length observed in the training data\n",
    "\n",
    "def create_tokenizer(lines):\n",
    "    tokenizer = Tokenizer()\n",
    "    tokenizer.fit_on_texts(lines)\n",
    "    return tokenizer\n",
    " \n",
    "\n",
    "def max_length(lines):\n",
    "    return max([len(s.split()) for s in lines])\n",
    " \n",
    "\n",
    "def encode_text(tokenizer, lines, length):\n",
    "    encoded = tokenizer.texts_to_sequences(lines)\n",
    "    padded = pad_sequences(encoded, maxlen=length, padding='post')\n",
    "    return padded\n",
    " \n",
    "#Note the use of regularization to prevent overfitting the training data\n",
    "def define_model(length, vocab_size):\n",
    "    inputs1 = Input(shape=(length,))\n",
    "    embedding1 = Embedding(vocab_size, 50)(inputs1) \n",
    "    conv1 = Conv1D(filters=16, kernel_size=6, activation='relu', \n",
    "                   kernel_regularizer=regularizers.l1_l2(l1=1e-5, \n",
    "                                                         l2=1e-4),\n",
    "                   bias_regularizer=regularizers.l2(1e-4))(embedding1)\n",
    "    drop1 = Dropout(0.6)(conv1)\n",
    "    pool1 = MaxPooling1D(pool_size=2)(drop1)\n",
    "    flat1 = Flatten()(pool1)\n",
    "    dense1 = Dense(10, activation='relu', kernel_regularizer=regularizers.l1_l2(l1=1e-5, \n",
    "                                                                                l2=1e-4),\n",
    "                   bias_regularizer=regularizers.l2(1e-4))(flat1)\n",
    "    outputs = Dense(1, activation='sigmoid')(dense1)\n",
    "    model = Model(inputs=inputs1, outputs=outputs)\n",
    "\n",
    "    model.compile(loss='binary_crossentropy', optimizer=\"adam\", metrics=['accuracy'])\n",
    "\n",
    "    print(model.summary())\n",
    "    return model\n",
    "\n",
    "    \n",
    "tokenizer = create_tokenizer(X)\n",
    "\n",
    "length = max_length(X)\n",
    "\n",
    "vocab_size = len(tokenizer.word_index) + 1\n",
    "\n",
    "print(f'Max token set length: {str(length)}')\n",
    "print(f'Vocabulary size: {str(vocab_size)}')"
   ]
  },
  {
   "cell_type": "code",
   "execution_count": 19,
   "metadata": {},
   "outputs": [],
   "source": [
    "X_enc = encode_text(tokenizer, X, length)\n",
    "X_test_enc = encode_text(tokenizer, X_test, length)"
   ]
  },
  {
   "cell_type": "code",
   "execution_count": 20,
   "metadata": {},
   "outputs": [
    {
     "name": "stdout",
     "output_type": "stream",
     "text": [
      "Model: \"model\"\n",
      "_________________________________________________________________\n",
      "Layer (type)                 Output Shape              Param #   \n",
      "=================================================================\n",
      "input_1 (InputLayer)         [(None, 430)]             0         \n",
      "_________________________________________________________________\n",
      "embedding (Embedding)        (None, 430, 50)           13160500  \n",
      "_________________________________________________________________\n",
      "conv1d (Conv1D)              (None, 425, 16)           4816      \n",
      "_________________________________________________________________\n",
      "dropout (Dropout)            (None, 425, 16)           0         \n",
      "_________________________________________________________________\n",
      "max_pooling1d (MaxPooling1D) (None, 212, 16)           0         \n",
      "_________________________________________________________________\n",
      "flatten (Flatten)            (None, 3392)              0         \n",
      "_________________________________________________________________\n",
      "dense (Dense)                (None, 10)                33930     \n",
      "_________________________________________________________________\n",
      "dense_1 (Dense)              (None, 1)                 11        \n",
      "=================================================================\n",
      "Total params: 13,199,257\n",
      "Trainable params: 13,199,257\n",
      "Non-trainable params: 0\n",
      "_________________________________________________________________\n",
      "None\n"
     ]
    }
   ],
   "source": [
    "model = define_model(length, vocab_size)"
   ]
  },
  {
   "cell_type": "code",
   "execution_count": 21,
   "metadata": {},
   "outputs": [
    {
     "name": "stdout",
     "output_type": "stream",
     "text": [
      "Epoch 1/5\n",
      "2344/2344 [==============================] - 394s 160ms/step - loss: 0.0769 - accuracy: 0.9703 - val_loss: 0.2303 - val_accuracy: 0.9565\n",
      "Epoch 2/5\n",
      "2344/2344 [==============================] - 375s 160ms/step - loss: 0.0044 - accuracy: 0.9998 - val_loss: 0.1842 - val_accuracy: 0.9457\n",
      "Epoch 3/5\n",
      "2344/2344 [==============================] - 380s 162ms/step - loss: 0.0032 - accuracy: 0.9998 - val_loss: 0.1938 - val_accuracy: 0.9565\n",
      "Epoch 4/5\n",
      "2344/2344 [==============================] - 381s 162ms/step - loss: 0.0025 - accuracy: 0.9999 - val_loss: 0.2695 - val_accuracy: 0.8913\n",
      "Epoch 5/5\n",
      "2344/2344 [==============================] - 381s 162ms/step - loss: 0.0021 - accuracy: 0.9999 - val_loss: 0.2181 - val_accuracy: 0.9239\n"
     ]
    }
   ],
   "source": [
    "set_seed(42)\n",
    "\n",
    "history = model.fit(X_enc, y, epochs=5, batch_size=512, validation_data = (X_test_enc, y_test)) "
   ]
  },
  {
   "cell_type": "code",
   "execution_count": 22,
   "metadata": {},
   "outputs": [
    {
     "name": "stdout",
     "output_type": "stream",
     "text": [
      "3/3 [==============================] - 0s 7ms/step - loss: 0.2181 - accuracy: 0.9239\n"
     ]
    },
    {
     "data": {
      "text/plain": [
       "[0.21807368099689484, 0.9239130616188049]"
      ]
     },
     "execution_count": 22,
     "metadata": {},
     "output_type": "execute_result"
    }
   ],
   "source": [
    "model.evaluate(X_test_enc, y_test)"
   ]
  },
  {
   "cell_type": "code",
   "execution_count": 23,
   "metadata": {},
   "outputs": [
    {
     "data": {
      "image/png": "[encoded data removed]",
      "text/plain": [
       "<Figure size 576x576 with 2 Axes>"
      ]
     },
     "metadata": {},
     "output_type": "display_data"
    }
   ],
   "source": [
    " \n",
    "y_pred = [1 if x>0.5 else 0 for x in model.predict(X_test_enc)]\n",
    "cmap = confusion_matrix(y_test, y_pred)\n",
    "plot_conf_matrix(cmap, ['R', 'S'])\n"
   ]
  },
  {
   "cell_type": "markdown",
   "metadata": {},
   "source": [
    "### 3. Wide Convolutional Neural Network\n",
    "\n",
    "Continuing over from part 2, we try to enhance performance by utilizing a multi-channel CNN each with a different kernel size.\n",
    "\n",
    "As this makes the model much more complex we must increase regularization to keep overfitting in check.\n",
    "\n",
    "We also utilize some handy keras features to add some stocastic sampling to the fitting process as well as to stop the training process once test accuracy doesn't improve for a few epochs."
   ]
  },
  {
   "cell_type": "code",
   "execution_count": 24,
   "metadata": {},
   "outputs": [
    {
     "name": "stdout",
     "output_type": "stream",
     "text": [
      "Model: \"model_1\"\n",
      "__________________________________________________________________________________________________\n",
      "Layer (type)                    Output Shape         Param #     Connected to                     \n",
      "==================================================================================================\n",
      "input_2 (InputLayer)            [(None, 430)]        0                                            \n",
      "__________________________________________________________________________________________________\n",
      "input_3 (InputLayer)            [(None, 430)]        0                                            \n",
      "__________________________________________________________________________________________________\n",
      "input_4 (InputLayer)            [(None, 430)]        0                                            \n",
      "__________________________________________________________________________________________________\n",
      "embedding_1 (Embedding)         (None, 430, 30)      7896300     input_2[0][0]                    \n",
      "__________________________________________________________________________________________________\n",
      "embedding_2 (Embedding)         (None, 430, 30)      7896300     input_3[0][0]                    \n",
      "__________________________________________________________________________________________________\n",
      "embedding_3 (Embedding)         (None, 430, 30)      7896300     input_4[0][0]                    \n",
      "__________________________________________________________________________________________________\n",
      "conv1d_1 (Conv1D)               (None, 427, 8)       968         embedding_1[0][0]                \n",
      "__________________________________________________________________________________________________\n",
      "conv1d_2 (Conv1D)               (None, 425, 8)       1448        embedding_2[0][0]                \n",
      "__________________________________________________________________________________________________\n",
      "conv1d_3 (Conv1D)               (None, 423, 8)       1928        embedding_3[0][0]                \n",
      "__________________________________________________________________________________________________\n",
      "dropout_1 (Dropout)             (None, 427, 8)       0           conv1d_1[0][0]                   \n",
      "__________________________________________________________________________________________________\n",
      "dropout_2 (Dropout)             (None, 425, 8)       0           conv1d_2[0][0]                   \n",
      "__________________________________________________________________________________________________\n",
      "dropout_3 (Dropout)             (None, 423, 8)       0           conv1d_3[0][0]                   \n",
      "__________________________________________________________________________________________________\n",
      "max_pooling1d_1 (MaxPooling1D)  (None, 213, 8)       0           dropout_1[0][0]                  \n",
      "__________________________________________________________________________________________________\n",
      "max_pooling1d_2 (MaxPooling1D)  (None, 212, 8)       0           dropout_2[0][0]                  \n",
      "__________________________________________________________________________________________________\n",
      "max_pooling1d_3 (MaxPooling1D)  (None, 211, 8)       0           dropout_3[0][0]                  \n",
      "__________________________________________________________________________________________________\n",
      "flatten_1 (Flatten)             (None, 1704)         0           max_pooling1d_1[0][0]            \n",
      "__________________________________________________________________________________________________\n",
      "flatten_2 (Flatten)             (None, 1696)         0           max_pooling1d_2[0][0]            \n",
      "__________________________________________________________________________________________________\n",
      "flatten_3 (Flatten)             (None, 1688)         0           max_pooling1d_3[0][0]            \n",
      "__________________________________________________________________________________________________\n",
      "concatenate (Concatenate)       (None, 5088)         0           flatten_1[0][0]                  \n",
      "                                                                 flatten_2[0][0]                  \n",
      "                                                                 flatten_3[0][0]                  \n",
      "__________________________________________________________________________________________________\n",
      "dense_2 (Dense)                 (None, 10)           50890       concatenate[0][0]                \n",
      "__________________________________________________________________________________________________\n",
      "dense_3 (Dense)                 (None, 1)            11          dense_2[0][0]                    \n",
      "==================================================================================================\n",
      "Total params: 23,744,145\n",
      "Trainable params: 23,744,145\n",
      "Non-trainable params: 0\n",
      "__________________________________________________________________________________________________\n",
      "None\n"
     ]
    }
   ],
   "source": [
    "def define_wide_model(length, vocab_size):\n",
    "    # channel 1\n",
    "    inputs1 = Input(shape=(length,))\n",
    "    embedding1 = Embedding(vocab_size, 30)(inputs1)\n",
    "    conv1 = Conv1D(filters=8, kernel_size=4, activation='relu', \n",
    "                   kernel_regularizer=regularizers.l1_l2(l1=1e-3, \n",
    "                                                         l2=1e-2),\n",
    "                   bias_regularizer=regularizers.l2(1e-2))(embedding1)\n",
    "    drop1 = Dropout(0.5)(conv1)\n",
    "    pool1 = MaxPooling1D(pool_size=2)(drop1)\n",
    "    flat1 = Flatten()(pool1)\n",
    "    # channel 2\n",
    "    inputs2 = Input(shape=(length,))\n",
    "    embedding2 = Embedding(vocab_size, 30)(inputs2)\n",
    "    conv2 = Conv1D(filters=8, kernel_size=6, activation='relu', \n",
    "                   kernel_regularizer=regularizers.l1_l2(l1=1e-3, \n",
    "                                                         l2=1e-2),\n",
    "                   bias_regularizer=regularizers.l2(1e-2))(embedding2)\n",
    "    drop2 = Dropout(0.5)(conv2)\n",
    "    pool2 = MaxPooling1D(pool_size=2)(drop2)\n",
    "    flat2 = Flatten()(pool2)\n",
    "    # channel 3\n",
    "    inputs3 = Input(shape=(length,))\n",
    "    embedding3 = Embedding(vocab_size, 30)(inputs3)\n",
    "    conv3 = Conv1D(filters=8, kernel_size=8, activation='relu', \n",
    "                   kernel_regularizer=regularizers.l1_l2(l1=1e-3, \n",
    "                                                         l2=1e-2),\n",
    "                   bias_regularizer=regularizers.l2(1e-2))(embedding3)\n",
    "    drop3 = Dropout(0.5)(conv3)\n",
    "    pool3 = MaxPooling1D(pool_size=2)(drop3)\n",
    "    flat3 = Flatten()(pool3)\n",
    "    # merge\n",
    "    merged = concatenate([flat1, flat2, flat3])\n",
    "\n",
    "    dense1 = Dense(10, activation='relu', kernel_regularizer=regularizers.l1_l2(l1=1e-3, \n",
    "                                                                                l2=1e-2),\n",
    "                   bias_regularizer=regularizers.l2(1e-2))(merged)\n",
    "    outputs = Dense(1, activation='sigmoid')(dense1)\n",
    "    \n",
    "    \n",
    "    model = Model(inputs=[inputs1, inputs2, inputs3], outputs=outputs)\n",
    "\n",
    "    model.compile(loss='binary_crossentropy', optimizer=\"adam\", metrics=['accuracy'])\n",
    "\n",
    "    print(model.summary())\n",
    "    \n",
    "    return model\n",
    " \n",
    "\n",
    "    \n",
    "\n",
    "model = define_wide_model(length, vocab_size)"
   ]
  },
  {
   "cell_type": "code",
   "execution_count": 25,
   "metadata": {},
   "outputs": [],
   "source": [
    "earlystopping = EarlyStopping(monitor='val_loss', mode='min', verbose=1, patience=10)\n",
    "checkpoint = ModelCheckpoint('best_wide_cnn_model.h5', monitor='val_accuracy', mode='max', save_best_only=True)\n",
    "#These callbacks ensure that excess training is not carried out past 10 epochs while saving the best performing model"
   ]
  },
  {
   "cell_type": "code",
   "execution_count": null,
   "metadata": {},
   "outputs": [
    {
     "name": "stdout",
     "output_type": "stream",
     "text": [
      "Epoch 1/50\n",
      "100/100 [==============================] - 24s 204ms/step - loss: 1.5062 - accuracy: 0.7149 - val_loss: 0.6193 - val_accuracy: 0.8587\n",
      "Epoch 2/50\n",
      "100/100 [==============================] - 20s 198ms/step - loss: 0.2901 - accuracy: 0.9885 - val_loss: 0.4262 - val_accuracy: 0.8804\n",
      "Epoch 3/50\n",
      "100/100 [==============================] - 20s 198ms/step - loss: 0.1710 - accuracy: 0.9927 - val_loss: 0.3668 - val_accuracy: 0.8804\n",
      "Epoch 4/50\n",
      "100/100 [==============================] - 20s 198ms/step - loss: 0.1367 - accuracy: 0.9943 - val_loss: 0.3383 - val_accuracy: 0.8804\n",
      "Epoch 5/50\n",
      "100/100 [==============================] - 20s 199ms/step - loss: 0.1166 - accuracy: 0.9964 - val_loss: 0.3346 - val_accuracy: 0.8587\n",
      "Epoch 6/50\n",
      "100/100 [==============================] - 20s 201ms/step - loss: 0.1068 - accuracy: 0.9958 - val_loss: 0.2981 - val_accuracy: 0.9022\n",
      "Epoch 7/50\n",
      "100/100 [==============================] - 20s 199ms/step - loss: 0.0947 - accuracy: 0.9953 - val_loss: 0.2883 - val_accuracy: 0.9239\n",
      "Epoch 8/50\n",
      "100/100 [==============================] - 20s 199ms/step - loss: 0.0866 - accuracy: 0.9955 - val_loss: 0.2928 - val_accuracy: 0.9348\n",
      "Epoch 9/50\n",
      "100/100 [==============================] - 20s 199ms/step - loss: 0.0810 - accuracy: 0.9959 - val_loss: 0.2702 - val_accuracy: 0.9457\n",
      "Epoch 10/50\n",
      "100/100 [==============================] - 20s 198ms/step - loss: 0.0773 - accuracy: 0.9967 - val_loss: 0.2728 - val_accuracy: 0.9457\n",
      "Epoch 11/50\n",
      "100/100 [==============================] - 20s 199ms/step - loss: 0.0749 - accuracy: 0.9960 - val_loss: 0.2801 - val_accuracy: 0.8913\n",
      "Epoch 12/50\n",
      "100/100 [==============================] - 20s 201ms/step - loss: 0.0744 - accuracy: 0.9957 - val_loss: 0.2834 - val_accuracy: 0.9239\n",
      "Epoch 13/50\n",
      "100/100 [==============================] - 20s 202ms/step - loss: 0.0674 - accuracy: 0.9962 - val_loss: 0.2582 - val_accuracy: 0.9239\n",
      "Epoch 14/50\n",
      " 11/100 [==>...........................] - ETA: 18s - loss: 0.0684 - accuracy: 0.9955"
     ]
    }
   ],
   "source": [
    "set_seed(42)\n",
    "history = model.fit([X_enc, X_enc, X_enc], y, epochs=50, batch_size=256, \n",
    "                    validation_data = ([X_test_enc, X_test_enc, X_test_enc], y_test), \n",
    "                    shuffle=True, steps_per_epoch=100, \n",
    "                    callbacks=[earlystopping, checkpoint])"
   ]
  },
  {
   "cell_type": "code",
   "execution_count": null,
   "metadata": {},
   "outputs": [],
   "source": [
    "model.evaluate([X_test_enc, X_test_enc, X_test_enc], y_test)"
   ]
  },
  {
   "cell_type": "markdown",
   "metadata": {},
   "source": [
    "### FINAL SUBMISSION"
   ]
  },
  {
   "cell_type": "code",
   "execution_count": null,
   "metadata": {},
   "outputs": [],
   "source": [
    "best = keras.models.load_model('best_wide_cnn_model.h5')"
   ]
  },
  {
   "cell_type": "code",
   "execution_count": null,
   "metadata": {},
   "outputs": [],
   "source": [
    "best.evaluate([X_test_enc, X_test_enc, X_test_enc], y_test)"
   ]
  },
  {
   "cell_type": "code",
   "execution_count": null,
   "metadata": {},
   "outputs": [],
   "source": [
    "y_pred = [1 if x>0.5 else 0 for x in best.predict([X_test_enc, X_test_enc, X_test_enc])]\n",
    "cmap = confusion_matrix(y_test, y_pred)\n",
    "plot_conf_matrix(cmap, ['R', 'S'])"
   ]
  },
  {
   "cell_type": "code",
   "execution_count": null,
   "metadata": {},
   "outputs": [],
   "source": []
  },
  {
   "cell_type": "code",
   "execution_count": null,
   "metadata": {},
   "outputs": [],
   "source": [
    "testing_data['predictions'] = y_pred\n",
    "testing_data['predictions'] = testing_data['predictions'].apply(lambda x: 'R' if x==0 else 'S')"
   ]
  },
  {
   "cell_type": "code",
   "execution_count": 50,
   "metadata": {},
   "outputs": [],
   "source": []
  },
  {
   "cell_type": "code",
   "execution_count": 51,
   "metadata": {},
   "outputs": [],
   "source": []
  },
  {
   "cell_type": "code",
   "execution_count": 54,
   "metadata": {},
   "outputs": [],
   "source": []
  },
  {
   "cell_type": "code",
   "execution_count": null,
   "metadata": {},
   "outputs": [],
   "source": []
  },
  {
   "cell_type": "code",
   "execution_count": null,
   "metadata": {},
   "outputs": [],
   "source": []
  },
  {
   "cell_type": "code",
   "execution_count": null,
   "metadata": {},
   "outputs": [],
   "source": []
  },
  {
   "cell_type": "code",
   "execution_count": null,
   "metadata": {},
   "outputs": [],
   "source": []
  },
  {
   "cell_type": "code",
   "execution_count": null,
   "metadata": {},
   "outputs": [],
   "source": []
  },
  {
   "cell_type": "code",
   "execution_count": null,
   "metadata": {},
   "outputs": [],
   "source": [
    "testing_data"
   ]
  },
  {
   "cell_type": "code",
   "execution_count": null,
   "metadata": {},
   "outputs": [],
   "source": []
  },
  {
   "cell_type": "code",
   "execution_count": null,
   "metadata": {},
   "outputs": [],
   "source": []
  },
  {
   "cell_type": "code",
   "execution_count": null,
   "metadata": {},
   "outputs": [],
   "source": []
  },
  {
   "cell_type": "code",
   "execution_count": null,
   "metadata": {},
   "outputs": [],
   "source": []
  },
  {
   "cell_type": "code",
   "execution_count": null,
   "metadata": {},
   "outputs": [],
   "source": []
  },
  {
   "cell_type": "code",
   "execution_count": null,
   "metadata": {},
   "outputs": [],
   "source": []
  },
  {
   "cell_type": "code",
   "execution_count": null,
   "metadata": {},
   "outputs": [],
   "source": []
  },
  {
   "cell_type": "code",
   "execution_count": null,
   "metadata": {},
   "outputs": [],
   "source": []
  },
  {
   "cell_type": "code",
   "execution_count": null,
   "metadata": {},
   "outputs": [],
   "source": [
    "X_padded"
   ]
  },
  {
   "cell_type": "code",
   "execution_count": 6,
   "metadata": {},
   "outputs": [],
   "source": []
  },
  {
   "cell_type": "code",
   "execution_count": 16,
   "metadata": {},
   "outputs": [],
   "source": [
    "X = tf.data.Dataset.from_tensor_slices(train['description'])\n",
    "y = train['category'].apply(lambda x: 0 if x=='R' else 1)\n"
   ]
  },
  {
   "cell_type": "code",
   "execution_count": 5,
   "metadata": {},
   "outputs": [
    {
     "data": {
      "text/plain": [
       "<TensorSliceDataset shapes: (), types: tf.string>"
      ]
     },
     "execution_count": 5,
     "metadata": {},
     "output_type": "execute_result"
    }
   ],
   "source": []
  },
  {
   "cell_type": "code",
   "execution_count": 8,
   "metadata": {},
   "outputs": [],
   "source": []
  },
  {
   "cell_type": "code",
   "execution_count": 26,
   "metadata": {},
   "outputs": [],
   "source": [
    "\n",
    "\n"
   ]
  },
  {
   "cell_type": "code",
   "execution_count": 27,
   "metadata": {},
   "outputs": [],
   "source": []
  },
  {
   "cell_type": "code",
   "execution_count": null,
   "metadata": {},
   "outputs": [],
   "source": []
  },
  {
   "cell_type": "code",
   "execution_count": null,
   "metadata": {},
   "outputs": [],
   "source": [
    "\n"
   ]
  },
  {
   "cell_type": "code",
   "execution_count": null,
   "metadata": {},
   "outputs": [],
   "source": []
  },
  {
   "cell_type": "code",
   "execution_count": null,
   "metadata": {},
   "outputs": [],
   "source": []
  },
  {
   "cell_type": "code",
   "execution_count": null,
   "metadata": {},
   "outputs": [],
   "source": []
  },
  {
   "cell_type": "code",
   "execution_count": null,
   "metadata": {},
   "outputs": [],
   "source": []
  },
  {
   "cell_type": "code",
   "execution_count": null,
   "metadata": {},
   "outputs": [],
   "source": []
  },
  {
   "cell_type": "code",
   "execution_count": 5,
   "metadata": {},
   "outputs": [],
   "source": []
  },
  {
   "cell_type": "code",
   "execution_count": null,
   "metadata": {},
   "outputs": [],
   "source": []
  },
  {
   "cell_type": "code",
   "execution_count": null,
   "metadata": {},
   "outputs": [],
   "source": []
  },
  {
   "cell_type": "code",
   "execution_count": null,
   "metadata": {},
   "outputs": [],
   "source": []
  },
  {
   "cell_type": "code",
   "execution_count": null,
   "metadata": {},
   "outputs": [],
   "source": []
  },
  {
   "cell_type": "code",
   "execution_count": null,
   "metadata": {},
   "outputs": [],
   "source": []
  },
  {
   "cell_type": "code",
   "execution_count": null,
   "metadata": {},
   "outputs": [],
   "source": []
  },
  {
   "cell_type": "code",
   "execution_count": null,
   "metadata": {},
   "outputs": [],
   "source": []
  },
  {
   "cell_type": "code",
   "execution_count": null,
   "metadata": {},
   "outputs": [],
   "source": []
  },
  {
   "cell_type": "code",
   "execution_count": null,
   "metadata": {},
   "outputs": [],
   "source": []
  },
  {
   "cell_type": "code",
   "execution_count": null,
   "metadata": {},
   "outputs": [],
   "source": []
  },
  {
   "cell_type": "code",
   "execution_count": null,
   "metadata": {},
   "outputs": [],
   "source": []
  },
  {
   "cell_type": "code",
   "execution_count": null,
   "metadata": {},
   "outputs": [],
   "source": []
  },
  {
   "cell_type": "code",
   "execution_count": null,
   "metadata": {},
   "outputs": [],
   "source": []
  },
  {
   "cell_type": "code",
   "execution_count": null,
   "metadata": {},
   "outputs": [],
   "source": []
  },
  {
   "cell_type": "code",
   "execution_count": null,
   "metadata": {},
   "outputs": [],
   "source": []
  },
  {
   "cell_type": "code",
   "execution_count": null,
   "metadata": {},
   "outputs": [],
   "source": []
  },
  {
   "cell_type": "code",
   "execution_count": null,
   "metadata": {},
   "outputs": [],
   "source": []
  },
  {
   "cell_type": "code",
   "execution_count": null,
   "metadata": {},
   "outputs": [],
   "source": []
  },
  {
   "cell_type": "code",
   "execution_count": null,
   "metadata": {},
   "outputs": [],
   "source": []
  },
  {
   "cell_type": "code",
   "execution_count": null,
   "metadata": {},
   "outputs": [],
   "source": []
  },
  {
   "cell_type": "code",
   "execution_count": null,
   "metadata": {},
   "outputs": [],
   "source": []
  },
  {
   "cell_type": "code",
   "execution_count": null,
   "metadata": {},
   "outputs": [],
   "source": []
  },
  {
   "cell_type": "code",
   "execution_count": null,
   "metadata": {},
   "outputs": [],
   "source": []
  },
  {
   "cell_type": "code",
   "execution_count": null,
   "metadata": {},
   "outputs": [],
   "source": []
  },
  {
   "cell_type": "code",
   "execution_count": null,
   "metadata": {},
   "outputs": [],
   "source": []
  },
  {
   "cell_type": "code",
   "execution_count": null,
   "metadata": {},
   "outputs": [],
   "source": []
  }
 ],
 "metadata": {
  "kernelspec": {
   "display_name": "Python 3",
   "language": "python",
   "name": "python3"
  },
  "language_info": {
   "codemirror_mode": {
    "name": "ipython",
    "version": 3
   },
   "file_extension": ".py",
   "mimetype": "text/x-python",
   "name": "python",
   "nbconvert_exporter": "python",
   "pygments_lexer": "ipython3",
   "version": "3.7.4"
  }
 },
 "nbformat": 4,
 "nbformat_minor": 2
}
